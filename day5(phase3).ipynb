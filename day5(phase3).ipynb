{
 "cells": [
  {
   "cell_type": "code",
   "execution_count": 2,
   "id": "421216dd",
   "metadata": {},
   "outputs": [
    {
     "name": "stdout",
     "output_type": "stream",
     "text": [
      "Enter the fibonacci terms:6\n",
      "Fibonacci series: [0, 1, 1, 2, 3, 5]\n"
     ]
    }
   ],
   "source": [
    "def fibonacci(n):\n",
    "    t1,t2=0,1\n",
    "    result=[t1,t2]\n",
    "    \n",
    "    for i in range(2,n):\n",
    "        next_term=t1+t2\n",
    "        result.append(next_term)\n",
    "        t1,t2=t2,next_term\n",
    "    return result\n",
    "    \n",
    "    \n",
    "    \n",
    "    \n",
    "n=int(input(\"Enter the fibonacci terms:\"))\n",
    "print(\"Fibonacci series:\",fibonacci(n))"
   ]
  },
  {
   "cell_type": "code",
   "execution_count": 3,
   "id": "26ab0c24",
   "metadata": {},
   "outputs": [
    {
     "name": "stdout",
     "output_type": "stream",
     "text": [
      "55\n"
     ]
    }
   ],
   "source": [
    "# Using Recursion\n",
    "def findNthTerm(n):\n",
    "    if n == 1 or n == 2:\n",
    "        return 1 \n",
    " \n",
    "    result1 = findNthTerm(n - 1)\n",
    "    result2 = findNthTerm(n - 2)\n",
    "    return result1 + result2 \n",
    " \n",
    "# Using Memoization \n",
    "def findNthTermUsingCache(n, cache): \n",
    "    if n == 1 or n == 2:\n",
    "        return 1 \n",
    "    elif cache[n] != -1:\n",
    "        return cache[n]\n",
    " \n",
    " \n",
    "    result1 = findNthTermUsingCache(n - 1, cache)\n",
    "    result2 = findNthTermUsingCache(n - 2, cache)\n",
    "    cache[n] = result1 + result2\n",
    "    return result1 + result2 \n",
    " \n",
    "# Tabulation approach (Ultimate Dynamic programming solution)\n",
    "def findNthTermUsingTabulation(n):\n",
    "    cache = [-1] * (n + 1)\n",
    "    # Whatever base condition we wrote \n",
    "    # recursive solutin, we need to \n",
    "    # initialize them \n",
    " \n",
    "    cache[1] = 1 \n",
    "    cache[2] = 1 \n",
    "    # 1 - wherever 'n' is present, replace it with index \n",
    "    # 2 - wherever 'functionCall' is there replace it with cache \n",
    " \n",
    "    for index in range(3, n + 1):\n",
    "        result1 = cache[index - 1]\n",
    "        result2 = cache[index - 2]\n",
    "        cache[index] = result1 + result2\n",
    " \n",
    "    return cache[n]\n",
    " \n",
    " \n",
    " \n",
    " \n",
    "n = 10\n",
    " \n",
    "# cache = [-1] * (n + 1)\n",
    "# print(findNthTermUsingCache(n, cache))\n",
    " \n",
    "print(findNthTermUsingTabulation(n))"
   ]
  },
  {
   "cell_type": "markdown",
   "id": "f9b8c94f",
   "metadata": {},
   "source": [
    "#climbingstairs"
   ]
  },
  {
   "cell_type": "code",
   "execution_count": 32,
   "id": "3af58cd8",
   "metadata": {},
   "outputs": [
    {
     "name": "stdout",
     "output_type": "stream",
     "text": [
      "Possible paths to reach stage 6 :\n",
      "[1, 1, 1, 1, 1, 1]\n",
      "[1, 1, 1, 1, 2]\n",
      "[1, 1, 1, 2, 1]\n",
      "[1, 1, 2, 1, 1]\n",
      "[1, 1, 2, 2]\n",
      "[1, 2, 1, 1, 1]\n",
      "[1, 2, 1, 2]\n",
      "[1, 2, 2, 1]\n",
      "[2, 1, 1, 1, 1]\n",
      "[2, 1, 1, 2]\n",
      "[2, 1, 2, 1]\n",
      "[2, 2, 1, 1]\n",
      "[2, 2, 2]\n"
     ]
    }
   ],
   "source": [
    "def climbing_stairs(n,current_path=[]):\n",
    "    if n==0:\n",
    "        return [current_path] \n",
    "    elif n<0:\n",
    "        return[]\n",
    "    else:\n",
    "        paths=[]\n",
    "        for step in [1, 2]:\n",
    "            new_path = current_path + [step]\n",
    "            paths.extend(climbing_stairs(n - step, new_path))\n",
    "    return paths\n",
    "\n",
    "\n",
    "n=6\n",
    "paths=climbing_stairs(n)\n",
    "print(\"Possible paths to reach stage\", n, \":\")\n",
    "for path in paths:\n",
    "    print(path)"
   ]
  },
  {
   "cell_type": "markdown",
   "id": "a4142c01",
   "metadata": {},
   "source": [
    "#Min Cost Climbing stairs "
   ]
  },
  {
   "cell_type": "code",
   "execution_count": 1,
   "id": "129ca1c5",
   "metadata": {},
   "outputs": [],
   "source": [
    "class Solution(object):\n",
    "    def minCostClimbingStairs(self, cost):\n",
    "        n = len(cost)\n",
    "        cache = [-1] * n\n",
    "        def solveIt(index, n, cost):\n",
    "            if index >= n:\n",
    "                return 0 \n",
    "            elif cache[index] != -1:\n",
    "                return cache[index]\n",
    "            jump1 = solveIt(index + 1, n, cost)\n",
    "            jump2 = solveIt(index + 2, n, cost)\n",
    "            cache[index] = min(jump1, jump2) + cost[index]\n",
    "            return cache[index]\n",
    " \n",
    " \n",
    "        def solveItUsingTabulation(cost):\n",
    "            cache = [-1] * (n + 2)\n",
    "            cache[n] = 0\n",
    "            cache[n + 1] = 0 \n",
    "            for index in range(n - 1, -1, -1):\n",
    "                jump1 = cache[index + 1]\n",
    "                jump2 = cache[index + 2]\n",
    "                cache[index] = min(jump1, jump2) + cost[index]\n",
    "            return min(cache[0], cache[1])\n",
    " \n",
    "        return solveItUsingTabulation(cost)\n",
    " \n",
    "        # option1 = solveIt(0, n, cost)\n",
    "        # option2 = solveIt(1, n, cost)\n",
    "        # return min(option1, option2)"
   ]
  },
  {
   "cell_type": "markdown",
   "id": "f7e7e4e5",
   "metadata": {},
   "source": [
    "#House Robber - I (3 approaches)"
   ]
  },
  {
   "cell_type": "code",
   "execution_count": 2,
   "id": "0965af2c",
   "metadata": {},
   "outputs": [],
   "source": [
    "class Solution(object):\n",
    "    def rob(self, nums):\n",
    "        n = len(nums)\n",
    "        cache = [-1] * n\n",
    "        def robHousesUsingRecursion(index):\n",
    "            if index >= n:\n",
    "                return 0 \n",
    " \n",
    "            robCurrentHouse = nums[index] +  robHousesUsingRecursion(index + 2)\n",
    "            skipCurrentHouse = robHousesUsingRecursion(index + 1)\n",
    "            return max(robCurrentHouse, skipCurrentHouse)\n",
    " \n",
    "        def robHousesUsingMemoization(index):\n",
    "            if index >= n:\n",
    "                return 0 \n",
    "            elif cache[index] != -1:\n",
    "                return cache[index]\n",
    " \n",
    "            robCurrentHouse = nums[index] +  robHousesUsingRecursion(index + 2)\n",
    "            skipCurrentHouse = robHousesUsingRecursion(index + 1)\n",
    "            cache[index] = max(robCurrentHouse, skipCurrentHouse) \n",
    "            return cache[index]\n",
    " \n",
    "        def robHousesUsingTabulation():\n",
    "            cache = [-1] * (n + 2)\n",
    "            cache[n] = 0 \n",
    "            cache[n + 1] = 0 \n",
    "            for index in range(n - 1, -1, -1):\n",
    "                robCurrentHouse = nums[index] +  cache[index + 2]\n",
    "                skipCurrentHouse = cache[index + 1]\n",
    "                cache[index] = max(robCurrentHouse, skipCurrentHouse) \n",
    "            return cache[0]\n",
    " \n",
    " \n",
    "        return robHousesUsingTabulation()"
   ]
  },
  {
   "cell_type": "markdown",
   "id": "9a748ce2",
   "metadata": {},
   "source": [
    "House Robber - II Solution(leetcode)"
   ]
  },
  {
   "cell_type": "code",
   "execution_count": 3,
   "id": "d6bde92d",
   "metadata": {},
   "outputs": [],
   "source": [
    "class Solution(object):\n",
    "    def rob(self, nums):\n",
    "        if len(nums) == 1:\n",
    "            return nums[0]\n",
    "        def robHousesUsingTabulation(startIndex, n):\n",
    "            cache = [-1] * (n + 2)\n",
    "            cache[n] = 0 \n",
    "            cache[n + 1] = 0 \n",
    "            for index in range(n - 1, startIndex - 1, -1):\n",
    "                robCurrentHouse = nums[index] +  cache[index + 2]\n",
    "                skipCurrentHouse = cache[index + 1]\n",
    "                cache[index] = max(robCurrentHouse, skipCurrentHouse) \n",
    "            #print(startIndex, n, cache)\n",
    "            return cache[startIndex]\n",
    " \n",
    " \n",
    "        includeFirstEle = robHousesUsingTabulation(0, len(nums) - 1)\n",
    "        excludeFirstEle = robHousesUsingTabulation(1, len(nums))\n",
    "        return max(includeFirstEle, excludeFirstEle)"
   ]
  },
  {
   "cell_type": "markdown",
   "id": "e7c5f251",
   "metadata": {},
   "source": [
    "#a=10\n",
    "#b=20\n",
    "swaping \n",
    "\n"
   ]
  },
  {
   "cell_type": "code",
   "execution_count": 7,
   "id": "7bea35b1",
   "metadata": {},
   "outputs": [
    {
     "name": "stdout",
     "output_type": "stream",
     "text": [
      "a = 10, b = 5\n"
     ]
    }
   ],
   "source": [
    "a = 5\n",
    "b = 10\n",
    "temp = a\n",
    "a = b\n",
    "b = temp\n",
    "\n",
    "print(f\"a = {a}, b = {b}\")\n"
   ]
  },
  {
   "cell_type": "code",
   "execution_count": 8,
   "id": "7c06cba3",
   "metadata": {},
   "outputs": [
    {
     "name": "stdout",
     "output_type": "stream",
     "text": [
      "10\n",
      "20\n",
      "a = 20 b = 10\n"
     ]
    }
   ],
   "source": [
    "\n",
    "a = int(input())\n",
    "b = int(input())\n",
    "a = a + b \n",
    "b = a - b  \n",
    "a = a - b \n",
    "\n",
    "print(\"a =\", a, \"b =\", b)\n"
   ]
  },
  {
   "cell_type": "code",
   "execution_count": null,
   "id": "7f03a063",
   "metadata": {},
   "outputs": [],
   "source": []
  }
 ],
 "metadata": {
  "kernelspec": {
   "display_name": "Python 3 (ipykernel)",
   "language": "python",
   "name": "python3"
  },
  "language_info": {
   "codemirror_mode": {
    "name": "ipython",
    "version": 3
   },
   "file_extension": ".py",
   "mimetype": "text/x-python",
   "name": "python",
   "nbconvert_exporter": "python",
   "pygments_lexer": "ipython3",
   "version": "3.11.3"
  }
 },
 "nbformat": 4,
 "nbformat_minor": 5
}
